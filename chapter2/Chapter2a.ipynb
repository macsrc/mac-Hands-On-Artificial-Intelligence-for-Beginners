{
  "cells": [
    {
      "cell_type": "markdown",
      "metadata": {
        "id": "9o5jh78ap2oM"
      },
      "source": [
        "# Chapter 2: Machine Learning Basics"
      ]
    },
    {
      "cell_type": "markdown",
      "metadata": {
        "id": "5x7jXGbap2oj"
      },
      "source": [
        "This chapter is intended as a review of the basic mathematical tools and techniques that are essential to understanding what’s under the hood in artificial intelligence; contained below is the code that corresponds to Chapter 2, Machine Learning Basics.  We’ll review linear algebra and probability, and then move on to the construction of basic and fundamental machine learning algorithms and systems.\n",
        "\n",
        "The Chapter Covers the Following Topics:\n",
        "\n",
        "- Applied math basics\n",
        "- Probability theory\n",
        "- Constructing basic machine learning algorithms\n"
      ]
    },
    {
      "cell_type": "markdown",
      "metadata": {
        "id": "Gp7kIUM9p2om"
      },
      "source": [
        "## Applied Math Basics"
      ]
    },
    {
      "cell_type": "markdown",
      "metadata": {
        "id": "bjZRb-Z_p2on"
      },
      "source": [
        "How can applied math help us in the Artificial Intelligence Space?  We can eliminate strenuous loops by simply utilizing Numpy's built in linear algebra functions. When you think of AI, and the thousands upon thousands of operations that have to be computed at the run-time of an applications, the building blocks of linear algebra can also help us out programmatically."
      ]
    },
    {
      "cell_type": "code",
      "execution_count": null,
      "metadata": {
        "id": "d9vsDpudp2oo",
        "outputId": "3b8a4437-b223-49a6-af19-91fe544fdc70"
      },
      "outputs": [
        {
          "data": {
            "text/plain": [
              "array([ 2,  6, 12])"
            ]
          },
          "execution_count": 1,
          "metadata": {},
          "output_type": "execute_result"
        }
      ],
      "source": [
        "import numpy as np\n",
        "\n",
        "## Element-wise multiplication without linear algebra\n",
        "x = [1,2,3]\n",
        "y = [2,3,4]\n",
        "product = []\n",
        "for i in range(len(x)):\n",
        "    product.append(x[i]*y[i])\n",
        "\n",
        "## Element-wise multiplication utilizing linear algebra\n",
        "x = np.array([1,2,3])\n",
        "y = np.array([2,3,4])\n",
        "x * y"
      ]
    },
    {
      "cell_type": "markdown",
      "metadata": {
        "id": "m78x7x9Wp2ot"
      },
      "source": [
        "### The Building Blocks of Math for AI"
      ]
    },
    {
      "cell_type": "markdown",
      "metadata": {
        "id": "1-SBzYiep2ou"
      },
      "source": [
        "Deep learning applications are built off of the building blocks of linear algebra; scalars, vectors, matrices and tensors. The code below illustrates how to create each in python"
      ]
    },
    {
      "cell_type": "code",
      "execution_count": null,
      "metadata": {
        "collapsed": true,
        "id": "2NpDoq89p2ow"
      },
      "outputs": [],
      "source": [
        "import numpy as np\n",
        "\n",
        "## Scalar\n",
        "my_scalar = 5\n",
        "my_scalar = 5.098\n",
        "\n",
        "## Vector\n",
        "my_vector = np.array([1,4,5])\n",
        "\n",
        "## Matrix\n",
        "my_matrix = np.array([[1,2,3], [4,5,6]])\n",
        "\n",
        "## Tensor\n",
        "\n",
        "my_tensor = [[[1,2,3,4]],[[2,5,6,3]],[[7,6,3,4]]]\n",
        "\n",
        "my_tensor_two = np.arange(27).reshape((3, 3, 3))\n"
      ]
    },
    {
      "cell_type": "markdown",
      "metadata": {
        "id": "a35Mkzunp2oy"
      },
      "source": [
        "We can also use python to manipulate these types with mathematical operations:"
      ]
    },
    {
      "cell_type": "code",
      "execution_count": null,
      "metadata": {
        "id": "ms_0Y5_Sp2o2",
        "outputId": "06200c0d-d67d-44f9-b728-5ec2dcd8f379"
      },
      "outputs": [
        {
          "data": {
            "text/plain": [
              "array([[0, 0],\n",
              "       [0, 0]])"
            ]
          },
          "execution_count": 3,
          "metadata": {},
          "output_type": "execute_result"
        }
      ],
      "source": [
        "## Matrix Math\n",
        "\n",
        "a = np.array([[1,2],[3,4]])\n",
        "b = np.array([[1,2],[3,4]])\n",
        "\n",
        "a + b"
      ]
    },
    {
      "cell_type": "code",
      "execution_count": null,
      "metadata": {
        "id": "BVT_tdccp2o3",
        "outputId": "b3d7ebe6-a3ce-4e93-f193-e610c7743c98"
      },
      "outputs": [
        {
          "data": {
            "text/plain": [
              "20"
            ]
          },
          "execution_count": 5,
          "metadata": {},
          "output_type": "execute_result"
        }
      ],
      "source": [
        "## Taking the Dot Product (Scalar Output)\n",
        "\n",
        "y = np.array([1,2,3])\n",
        "x = np.array([2,3,4])\n",
        "np.dot(y,x)"
      ]
    },
    {
      "cell_type": "code",
      "execution_count": null,
      "metadata": {
        "id": "ZlT8E6zFp2o5",
        "outputId": "338ac929-7cbf-4840-cf1f-5e76fcde45ea"
      },
      "outputs": [
        {
          "data": {
            "text/plain": [
              "array([ 2,  6, 12])"
            ]
          },
          "execution_count": 7,
          "metadata": {},
          "output_type": "execute_result"
        }
      ],
      "source": [
        "# Taking the Hadamard Product (Vector Output)\n",
        "\n",
        "y = np.array([1,2,3])\n",
        "x = np.array([2,3,4])\n",
        "y * x"
      ]
    },
    {
      "cell_type": "markdown",
      "metadata": {
        "id": "QmNLEER2p2o8"
      },
      "source": [
        "## Distributions in Python"
      ]
    },
    {
      "cell_type": "markdown",
      "metadata": {
        "id": "3yn83qgdp2o-"
      },
      "source": [
        "Plotting the Probability Density Function. In this example, we use the Gaussian Kernal Density Estimation(KDE) function from the Python Library scipy. A KDE helps us estimate the probability density function. Gaussian is another name for the normal distribution."
      ]
    },
    {
      "cell_type": "code",
      "execution_count": null,
      "metadata": {
        "id": "Ocf5OKU6p2o_",
        "outputId": "1bd7552f-9114-44d9-c30b-923a2c4e5abd"
      },
      "outputs": [
        {
          "data": {
            "text/plain": [
              "[<matplotlib.lines.Line2D at 0x1a1d0ffc18>]"
            ]
          },
          "execution_count": 20,
          "metadata": {},
          "output_type": "execute_result"
        },
        {
          "data": {
            "image/png": "[encoded data removed]",
            "text/plain": [
              "<matplotlib.figure.Figure at 0x1a1cfd9e48>"
            ]
          },
          "metadata": {},
          "output_type": "display_data"
        }
      ],
      "source": [
        "from scipy.stats.kde import gaussian_kde\n",
        "from numpy import linspace\n",
        "\n",
        "testData = np.random.randn(1000)  ## Create Random Data; this numpy function will create a random normal distribution for us\n",
        "\n",
        "gaussKDE = gaussian_kde(testData)\n",
        "\n",
        "dist_space = linspace(min(testData), max(testData), 100)\n",
        "\n",
        "plt.plot(dist_space, gaussKDE(dist_space))"
      ]
    },
    {
      "cell_type": "markdown",
      "metadata": {
        "id": "NcvcWbZ9p2ph"
      },
      "source": [
        "Plotting the Probability Mass Function. We'll use the same test data from above"
      ]
    },
    {
      "cell_type": "code",
      "execution_count": null,
      "metadata": {
        "id": "OjweYnmWp2pn",
        "outputId": "d80d0344-7f92-456f-dd74-b9810ed6957a"
      },
      "outputs": [
        {
          "data": {
            "image/png": "[encoded data removed]",
            "text/plain": [
              "<matplotlib.figure.Figure at 0x1a1d0474a8>"
            ]
          },
          "metadata": {},
          "output_type": "display_data"
        }
      ],
      "source": [
        "num_bins = 50\n",
        "\n",
        "## Set the Number of bins to create the PMF.\n",
        "counts, bins = np.histogram(testData, bins=num_bins)\n",
        "bins = bins[:-1] + (bins[1] - bins[0])/2\n",
        "\n",
        "prob = counts/float(counts.sum())\n",
        "\n",
        "## Create the chart\n",
        "plt.bar(bins, prob, 1.0/num_bins)\n",
        "plt.show()"
      ]
    },
    {
      "cell_type": "markdown",
      "metadata": {
        "id": "cgxI2tPTp2po"
      },
      "source": [
        "## Bayes Rule and Bayesian Statistics"
      ]
    },
    {
      "cell_type": "markdown",
      "metadata": {
        "id": "iZC1Fgpup2pp"
      },
      "source": [
        "Bayes Rule allows us to calculate the conditional probability of an event happening by inverting the conditions of the events.\n",
        "\n",
        "### $$P\\left(\\;A\\;|\\;B\\;\\right) = \\frac{P\\left(\\;B\\;|\\;A\\;\\right)P\\left(\\;A\\;\\right)}{P(\\;B\\;)}$$\n",
        "\n"
      ]
    },
    {
      "cell_type": "markdown",
      "metadata": {
        "id": "LJf_onUJp2qX"
      },
      "source": [
        "Recall that there are two schools of thought surrounding how to view statistics:\n",
        "\n",
        "**Frequentists** believe the \"true\" distribution is fixed (and not known). We can gain more insight into the \"true\" distribution by utilizing sampling techniques, testing for effects, and studying relevant parameters of the distribution.\n",
        "\n",
        "**Bayesians** believe that data informs us about the distribution, and as we receive more data our view of the distribution can be updated, further confirming or denying our previous beliefs. Bayesian oberservations are never \"certain.\"\n",
        "\n",
        "In AI applications, we typically take the Bayesian view of statistics\n"
      ]
    },
    {
      "cell_type": "code",
      "execution_count": null,
      "metadata": {
        "id": "VwhujPAmp2qX",
        "outputId": "9600b300-0895-422c-b2f7-05f8f992bc0f"
      },
      "outputs": [
        {
          "name": "stdout",
          "output_type": "stream",
          "text": [
            "0.07763975155279504\n"
          ]
        }
      ],
      "source": [
        "p_diseasePos = 0.8 ## Chance of having the disease given a positive result\n",
        "p_diseaseNeg = 0.2 ## Chance of having the disease given a negative result\n",
        "\n",
        "p_noPos = 0.096\n",
        "p_noNeg = 0.904\n",
        "\n",
        "p_FalsePos = (.80 * .01) + (.096 * .99)\n",
        "\n",
        "p_disease_given_pos = (.80 * .01) / p_FalsePos\n",
        "\n",
        "print(p_disease_given_pos)"
      ]
    },
    {
      "cell_type": "markdown",
      "metadata": {
        "id": "n9yzb7uap2qY"
      },
      "source": [
        "## Supervised Learning"
      ]
    },
    {
      "cell_type": "markdown",
      "metadata": {
        "id": "bQkrfw8kp2qZ"
      },
      "source": [
        "Supervised algorithms rely on human knowledge to complete their tasks; they require labeled data that contains a target variable. For example, the data shown below is one of the most famous toy datasets for machine learning, the Iris Dataset. It shows four features - Sepal Length, Sepal Width, Petal Length, and Petal Width. In this dataset, our target variable (sometimes called label) is species. First, Let's load the dataset and take a look:"
      ]
    },
    {
      "cell_type": "code",
      "execution_count": null,
      "metadata": {
        "id": "jizhcZWip2qZ",
        "outputId": "fb8174d8-3b3d-4db6-ec4a-192470fdae71"
      },
      "outputs": [
        {
          "data": {
            "text/html": [
              "<div>\n",
              "<style scoped>\n",
              "    .dataframe tbody tr th:only-of-type {\n",
              "        vertical-align: middle;\n",
              "    }\n",
              "\n",
              "    .dataframe tbody tr th {\n",
              "        vertical-align: top;\n",
              "    }\n",
              "\n",
              "    .dataframe thead th {\n",
              "        text-align: right;\n",
              "    }\n",
              "</style>\n",
              "<table border=\"1\" class=\"dataframe\">\n",
              "  <thead>\n",
              "    <tr style=\"text-align: right;\">\n",
              "      <th></th>\n",
              "      <th>SepalLength</th>\n",
              "      <th>SepalWidth</th>\n",
              "      <th>PetalLength</th>\n",
              "      <th>PetalWidth</th>\n",
              "      <th>Name</th>\n",
              "    </tr>\n",
              "  </thead>\n",
              "  <tbody>\n",
              "    <tr>\n",
              "      <th>0</th>\n",
              "      <td>5.1</td>\n",
              "      <td>3.5</td>\n",
              "      <td>1.4</td>\n",
              "      <td>0.2</td>\n",
              "      <td>Iris-setosa</td>\n",
              "    </tr>\n",
              "    <tr>\n",
              "      <th>1</th>\n",
              "      <td>4.9</td>\n",
              "      <td>3.0</td>\n",
              "      <td>1.4</td>\n",
              "      <td>0.2</td>\n",
              "      <td>Iris-setosa</td>\n",
              "    </tr>\n",
              "    <tr>\n",
              "      <th>2</th>\n",
              "      <td>4.7</td>\n",
              "      <td>3.2</td>\n",
              "      <td>1.3</td>\n",
              "      <td>0.2</td>\n",
              "      <td>Iris-setosa</td>\n",
              "    </tr>\n",
              "    <tr>\n",
              "      <th>3</th>\n",
              "      <td>4.6</td>\n",
              "      <td>3.1</td>\n",
              "      <td>1.5</td>\n",
              "      <td>0.2</td>\n",
              "      <td>Iris-setosa</td>\n",
              "    </tr>\n",
              "    <tr>\n",
              "      <th>4</th>\n",
              "      <td>5.0</td>\n",
              "      <td>3.6</td>\n",
              "      <td>1.4</td>\n",
              "      <td>0.2</td>\n",
              "      <td>Iris-setosa</td>\n",
              "    </tr>\n",
              "  </tbody>\n",
              "</table>\n",
              "</div>"
            ],
            "text/plain": [
              "   SepalLength  SepalWidth  PetalLength  PetalWidth         Name\n",
              "0          5.1         3.5          1.4         0.2  Iris-setosa\n",
              "1          4.9         3.0          1.4         0.2  Iris-setosa\n",
              "2          4.7         3.2          1.3         0.2  Iris-setosa\n",
              "3          4.6         3.1          1.5         0.2  Iris-setosa\n",
              "4          5.0         3.6          1.4         0.2  Iris-setosa"
            ]
          },
          "execution_count": 6,
          "metadata": {},
          "output_type": "execute_result"
        }
      ],
      "source": [
        "import pandas as pd\n",
        "import numpy as np\n",
        "\n",
        "data = pd.read_csv(\"/users/patricksmith/desktop/iris.csv\")\n",
        "data.head()"
      ]
    },
    {
      "cell_type": "markdown",
      "metadata": {
        "id": "XFOV9Djgp2qa"
      },
      "source": [
        "We need to preprocesses our data by encoded the target labels before we can feed it into the random forest. First, we'll split our datasets into features and labels, and then encode the labels utilizing SkLearn's built in label encoder."
      ]
    },
    {
      "cell_type": "code",
      "execution_count": null,
      "metadata": {
        "id": "Ei9dQNNap2qa"
      },
      "outputs": [],
      "source": [
        "from sklearn.model_selection import train_test_split\n",
        "\n",
        "features = data.iloc[:,0:4]\n",
        "labels = data.iloc[:,4]\n",
        "\n",
        "x_train, x_test, y_train, y_test = train_test_split(features, labels, test_size = 0.25, random_state = 50)"
      ]
    },
    {
      "cell_type": "markdown",
      "metadata": {
        "id": "IUg3At21p2qb"
      },
      "source": [
        "Now, we can fit the classifier"
      ]
    },
    {
      "cell_type": "code",
      "execution_count": null,
      "metadata": {
        "id": "SvDIPO04p2qb",
        "outputId": "4568d829-e124-48d5-c96e-40ea4a8e416b"
      },
      "outputs": [
        {
          "data": {
            "text/plain": [
              "RandomForestClassifier(bootstrap=True, class_weight=None, criterion='gini',\n",
              "            max_depth=None, max_features='auto', max_leaf_nodes=None,\n",
              "            min_impurity_decrease=0.0, min_impurity_split=None,\n",
              "            min_samples_leaf=1, min_samples_split=2,\n",
              "            min_weight_fraction_leaf=0.0, n_estimators=1000, n_jobs=1,\n",
              "            oob_score=False, random_state=None, verbose=0,\n",
              "            warm_start=False)"
            ]
          },
          "execution_count": 9,
          "metadata": {},
          "output_type": "execute_result"
        }
      ],
      "source": [
        "from sklearn.ensemble import RandomForestClassifier\n",
        "\n",
        "rf_classifier = RandomForestClassifier(n_estimators=1000)\n",
        "rf_classifier.fit(x_train, y_train)"
      ]
    },
    {
      "cell_type": "markdown",
      "metadata": {
        "id": "qwLXU2Asp2qc"
      },
      "source": [
        "Let's see how out model did; we can predict off of the x_test features data that we have, and assign the encoded labels back to the iris dataset labels."
      ]
    },
    {
      "cell_type": "code",
      "execution_count": null,
      "metadata": {
        "id": "Xn4fLkb3p2qc"
      },
      "outputs": [],
      "source": [
        "predicted = rf_classifier.predict(x_test)"
      ]
    },
    {
      "cell_type": "markdown",
      "metadata": {
        "id": "AbMDj9SUp2qd"
      },
      "source": [
        "Lastly, we can create a confusion matrix to test how we did."
      ]
    },
    {
      "cell_type": "code",
      "execution_count": null,
      "metadata": {
        "id": "LQ_gz2fqp2qd",
        "outputId": "a84f4e49-db97-4449-a47e-26c7a315d239"
      },
      "outputs": [
        {
          "data": {
            "text/html": [
              "<div>\n",
              "<style scoped>\n",
              "    .dataframe tbody tr th:only-of-type {\n",
              "        vertical-align: middle;\n",
              "    }\n",
              "\n",
              "    .dataframe tbody tr th {\n",
              "        vertical-align: top;\n",
              "    }\n",
              "\n",
              "    .dataframe thead th {\n",
              "        text-align: right;\n",
              "    }\n",
              "</style>\n",
              "<table border=\"1\" class=\"dataframe\">\n",
              "  <thead>\n",
              "    <tr style=\"text-align: right;\">\n",
              "      <th>Predicted</th>\n",
              "      <th>Iris-setosa</th>\n",
              "      <th>Iris-versicolor</th>\n",
              "      <th>Iris-virginica</th>\n",
              "    </tr>\n",
              "    <tr>\n",
              "      <th>Actual</th>\n",
              "      <th></th>\n",
              "      <th></th>\n",
              "      <th></th>\n",
              "    </tr>\n",
              "  </thead>\n",
              "  <tbody>\n",
              "    <tr>\n",
              "      <th>Iris-setosa</th>\n",
              "      <td>11</td>\n",
              "      <td>0</td>\n",
              "      <td>0</td>\n",
              "    </tr>\n",
              "    <tr>\n",
              "      <th>Iris-versicolor</th>\n",
              "      <td>0</td>\n",
              "      <td>14</td>\n",
              "      <td>1</td>\n",
              "    </tr>\n",
              "    <tr>\n",
              "      <th>Iris-virginica</th>\n",
              "      <td>0</td>\n",
              "      <td>1</td>\n",
              "      <td>11</td>\n",
              "    </tr>\n",
              "  </tbody>\n",
              "</table>\n",
              "</div>"
            ],
            "text/plain": [
              "Predicted        Iris-setosa  Iris-versicolor  Iris-virginica\n",
              "Actual                                                       \n",
              "Iris-setosa               11                0               0\n",
              "Iris-versicolor            0               14               1\n",
              "Iris-virginica             0                1              11"
            ]
          },
          "execution_count": 12,
          "metadata": {},
          "output_type": "execute_result"
        }
      ],
      "source": [
        "pd.crosstab(y_test, predicted, rownames=['Actual'], colnames=['Predicted'])"
      ]
    },
    {
      "cell_type": "markdown",
      "metadata": {
        "id": "2Gga6Gb4p2qd"
      },
      "source": [
        "Hyperparameter search"
      ]
    },
    {
      "cell_type": "code",
      "execution_count": null,
      "metadata": {
        "collapsed": true,
        "id": "BP0L-GgAp2qi"
      },
      "outputs": [],
      "source": [
        "from sklearn.model_selection import GridSearchCV\n",
        "parameters = {\n",
        "    'n_estimators': [100, 500, 1000],\n",
        "    'max_features': [2, 3, 4],\n",
        "    'max_depth': [90, 100, 110, 120],\n",
        "    'min_samples_split': [6, 10, 14],\n",
        "    'min_samples_leaf': [2, 4, 6],\n",
        "}"
      ]
    },
    {
      "cell_type": "code",
      "execution_count": null,
      "metadata": {
        "id": "t5RxInXPp2qj"
      },
      "outputs": [],
      "source": [
        "search = GridSearchCV(estimator = rf_classifier, param_grid = parameters, cv = 3)"
      ]
    },
    {
      "cell_type": "code",
      "execution_count": null,
      "metadata": {
        "collapsed": true,
        "id": "2XLBz5Mop2ql"
      },
      "outputs": [],
      "source": [
        "search.fit(x_train, y_train)\n",
        "search.best_params_"
      ]
    },
    {
      "cell_type": "markdown",
      "metadata": {
        "id": "7cbyMCeYp2ql"
      },
      "source": [
        "## Unsupervised Learning"
      ]
    },
    {
      "cell_type": "markdown",
      "metadata": {
        "id": "oA7sezcbp2qm"
      },
      "source": [
        "Principal Component Analysis, or PCA, is an unsupervised method for feature extraction. It combines the input variables in a way so that we may drop the variables that provides the least amount of information to us."
      ]
    },
    {
      "cell_type": "code",
      "execution_count": null,
      "metadata": {
        "collapsed": true,
        "id": "EFzaC74-p2qm"
      },
      "outputs": [],
      "source": [
        "import pandas as pd\n",
        "import numpy as np"
      ]
    },
    {
      "cell_type": "code",
      "execution_count": null,
      "metadata": {
        "id": "mEsApv6pp2qw",
        "outputId": "aafd339c-0c62-4235-9fe9-9612b1dcb799"
      },
      "outputs": [
        {
          "data": {
            "text/plain": [
              "array([[ 1.        , -0.10936925,  0.87175416,  0.81795363],\n",
              "       [-0.10936925,  1.        , -0.4205161 , -0.35654409],\n",
              "       [ 0.87175416, -0.4205161 ,  1.        ,  0.9627571 ],\n",
              "       [ 0.81795363, -0.35654409,  0.9627571 ,  1.        ]])"
            ]
          },
          "execution_count": 20,
          "metadata": {},
          "output_type": "execute_result"
        }
      ],
      "source": [
        "features = (features - features.mean()) / features.std()\n",
        "\n",
        "corr_matrix = np.corrcoef(features.values.T)\n",
        "corr_matrix"
      ]
    },
    {
      "cell_type": "code",
      "execution_count": null,
      "metadata": {
        "id": "i9eqFWaSp2rr",
        "outputId": "42d97a42-0fee-4277-c35c-70471c98d2e8"
      },
      "outputs": [
        {
          "name": "stdout",
          "output_type": "stream",
          "text": [
            "[2.91081808 0.92122093 0.14735328 0.02060771]\n",
            "[[ 0.52237162 -0.37231836 -0.72101681  0.26199559]\n",
            " [-0.26335492 -0.92555649  0.24203288 -0.12413481]\n",
            " [ 0.58125401 -0.02109478  0.14089226 -0.80115427]\n",
            " [ 0.56561105 -0.06541577  0.6338014   0.52354627]]\n"
          ]
        }
      ],
      "source": [
        "eigen_values, eigen_vectors = np.linalg.eig(corr_matrix)\n",
        "print(eigen_values)\n",
        "print(eigen_vectors)"
      ]
    },
    {
      "cell_type": "code",
      "execution_count": null,
      "metadata": {
        "id": "Irnwwxfbp2rs"
      },
      "outputs": [],
      "source": [
        "eigenpairs = [[eigen_values[i], eigen_vectors[:,i]] for i in range(len(eigen_vectors))]\n",
        "eigenpairs.sort(reverse=True)"
      ]
    },
    {
      "cell_type": "code",
      "execution_count": null,
      "metadata": {
        "collapsed": true,
        "id": "HQ1FawqNp2rv"
      },
      "outputs": [],
      "source": [
        "projection = np.hstack((eigenpairs[0][1].reshape(eigen_vectors.shape[1],1), eigenpairs[1][1].reshape(eigen_vectors.shape[1],1)))"
      ]
    },
    {
      "cell_type": "code",
      "execution_count": null,
      "metadata": {
        "collapsed": true,
        "id": "JlfQCwLyp2rw"
      },
      "outputs": [],
      "source": [
        "transform = features.dot(projection)"
      ]
    },
    {
      "cell_type": "code",
      "execution_count": null,
      "metadata": {
        "collapsed": true,
        "id": "lurZfoUkp2r2"
      },
      "outputs": [],
      "source": [
        "import matplotlib\n",
        "import matplotlib.pyplot as plt\n",
        "import seaborn as sns\n",
        "%matplotlib inline"
      ]
    },
    {
      "cell_type": "code",
      "execution_count": null,
      "metadata": {
        "id": "vNuJm7JKp2sE",
        "outputId": "efa02f41-016a-4bff-d9a6-e2f7e55bb44d"
      },
      "outputs": [
        {
          "data": {
            "image/png": "[encoded data removed]",
            "text/plain": [
              "<matplotlib.figure.Figure at 0x12bf5f978>"
            ]
          },
          "metadata": {},
          "output_type": "display_data"
        }
      ],
      "source": [
        "fig = plt.figure(figsize=(8,8))\n",
        "\n",
        "ax = fig.gca()\n",
        "ax = sns.regplot(transform.iloc[:,0], transform.iloc[:,1],fit_reg=False, scatter_kws={'s':70}, ax=ax)\n",
        "\n",
        "ax.set_xlabel('principal component 1', fontsize=10)\n",
        "ax.set_ylabel('principal component 2', fontsize=10)\n",
        "\n",
        "\n",
        "for tick in ax.xaxis.get_major_ticks():\n",
        "    tick.label.set_fontsize(12)\n",
        "\n",
        "for tick in ax.yaxis.get_major_ticks():\n",
        "    tick.label.set_fontsize(12)\n",
        "\n",
        "ax.set_title('Pricipal Component 1 vs Principal Component 2\\n', fontsize=15)\n",
        "\n",
        "plt.show()"
      ]
    },
    {
      "cell_type": "code",
      "execution_count": null,
      "metadata": {
        "collapsed": true,
        "id": "y4LQsZlKp2sE"
      },
      "outputs": [],
      "source": []
    }
  ],
  "metadata": {
    "kernelspec": {
      "display_name": "Python 3",
      "language": "python",
      "name": "python3"
    },
    "language_info": {
      "codemirror_mode": {
        "name": "ipython",
        "version": 3
      },
      "file_extension": ".py",
      "mimetype": "text/x-python",
      "name": "python",
      "nbconvert_exporter": "python",
      "pygments_lexer": "ipython3",
      "version": "3.6.1"
    },
    "colab": {
      "provenance": []
    }
  },
  "nbformat": 4,
  "nbformat_minor": 0
}